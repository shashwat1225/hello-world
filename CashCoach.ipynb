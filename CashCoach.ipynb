{
  "nbformat": 4,
  "nbformat_minor": 0,
  "metadata": {
    "colab": {
      "name": "CashCoach.ipynb",
      "provenance": [],
      "collapsed_sections": [],
      "mount_file_id": "1lXQGjcFao5jWKzqVK5GdvS0w-yMuBNcN",
      "authorship_tag": "ABX9TyNP54gBIMpqe1FbDRYKIBys",
      "include_colab_link": true
    },
    "kernelspec": {
      "name": "python3",
      "display_name": "Python 3"
    }
  },
  "cells": [
    {
      "cell_type": "markdown",
      "metadata": {
        "id": "view-in-github",
        "colab_type": "text"
      },
      "source": [
        "<a href=\"https://colab.research.google.com/github/shashwat1225/hello-world/blob/master/CashCoach.ipynb\" target=\"_parent\"><img src=\"https://colab.research.google.com/assets/colab-badge.svg\" alt=\"Open In Colab\"/></a>"
      ]
    },
    {
      "cell_type": "markdown",
      "metadata": {
        "id": "Si5WJNgHdspW"
      },
      "source": [
        "**ANSWER 1.1**\n",
        "\n",
        "\n",
        "\n",
        "To calculate the correlation between variable spendings, we will follow these steps:\n",
        "\n",
        "\n",
        "1.   Create another dataframe having spendings of variable amounts only\n",
        "2.   Plot a scatter plot between the categories(level 2) and amount to visualise the spendings in each category\n",
        "3.   Find correlation against each category and put that in a tabular form. (Dividing each spending with the maximum spending to check the percentage change)\n",
        "\n",
        "\n",
        "After finding the correlations, we observe that the expenditure is mostly correlated with shops and coffee shops (positively), which means the expenditure goes up with time since the rate of shopping and sitting at coffee shops also goes up. However, with other categories we observe a negative correlation which means users are trying to cut down their expenditure their as the spending in other categories decreases with time.\n",
        "\n",
        "\n",
        "**ANSWER 1.2**\n",
        "\n",
        "To calculate the multi variate normality and check if the distribution is normal along with the null hypothesis check with p-value, we will use the pengouin library for Henze-Zirkler multivariate normality test. (ERROR)\n",
        "\n",
        "Followed by which we performed Shapiro test and found the normality of the dataframe to be 0.15 and p value to be 0, which meant that the data is completely rejecting the null hypothesis\n"
      ]
    },
    {
      "cell_type": "code",
      "metadata": {
        "id": "NVYGKtPr-kpG"
      },
      "source": [
        "#Importing Libraries\n",
        "import pandas as pd\n",
        "import numpy as np\n",
        "import matplotlib.pyplot as plt\n",
        "from scipy import stats"
      ],
      "execution_count": 98,
      "outputs": []
    },
    {
      "cell_type": "code",
      "metadata": {
        "id": "NTPaRkfg1FJu"
      },
      "source": [
        "df = pd.read_excel(\"/content/sample_data/ML itw - dataset ex1.xlsx\", sheet_name='Transactions')"
      ],
      "execution_count": 60,
      "outputs": []
    },
    {
      "cell_type": "code",
      "metadata": {
        "id": "IhkZaevk-8iU",
        "outputId": "db33c749-4fdf-4ddf-e0f7-f40f6c4a9fe6",
        "colab": {
          "base_uri": "https://localhost:8080/",
          "height": 609
        }
      },
      "source": [
        "df1=df.query('category_lvl1 == \"variable\"')\n",
        "df1"
      ],
      "execution_count": 61,
      "outputs": [
        {
          "output_type": "execute_result",
          "data": {
            "text/html": [
              "<div>\n",
              "<style scoped>\n",
              "    .dataframe tbody tr th:only-of-type {\n",
              "        vertical-align: middle;\n",
              "    }\n",
              "\n",
              "    .dataframe tbody tr th {\n",
              "        vertical-align: top;\n",
              "    }\n",
              "\n",
              "    .dataframe thead th {\n",
              "        text-align: right;\n",
              "    }\n",
              "</style>\n",
              "<table border=\"1\" class=\"dataframe\">\n",
              "  <thead>\n",
              "    <tr style=\"text-align: right;\">\n",
              "      <th></th>\n",
              "      <th>id</th>\n",
              "      <th>account_id</th>\n",
              "      <th>bankCode</th>\n",
              "      <th>cashcoachId</th>\n",
              "      <th>made_on</th>\n",
              "      <th>category_lvl2</th>\n",
              "      <th>category_lvl1</th>\n",
              "      <th>currency_code</th>\n",
              "      <th>amount</th>\n",
              "      <th>year</th>\n",
              "      <th>month</th>\n",
              "      <th>week</th>\n",
              "    </tr>\n",
              "  </thead>\n",
              "  <tbody>\n",
              "    <tr>\n",
              "      <th>0</th>\n",
              "      <td>10000</td>\n",
              "      <td>Current_account</td>\n",
              "      <td>Revo</td>\n",
              "      <td>Revo_10000</td>\n",
              "      <td>2018-05-01</td>\n",
              "      <td>Coffee shops</td>\n",
              "      <td>variable</td>\n",
              "      <td>GBP</td>\n",
              "      <td>-7.80</td>\n",
              "      <td>2018</td>\n",
              "      <td>5</td>\n",
              "      <td>18</td>\n",
              "    </tr>\n",
              "    <tr>\n",
              "      <th>2</th>\n",
              "      <td>10002</td>\n",
              "      <td>Current_account</td>\n",
              "      <td>Revo</td>\n",
              "      <td>Revo_10002</td>\n",
              "      <td>2018-05-02</td>\n",
              "      <td>Coffee shops</td>\n",
              "      <td>variable</td>\n",
              "      <td>GBP</td>\n",
              "      <td>-5.24</td>\n",
              "      <td>2018</td>\n",
              "      <td>5</td>\n",
              "      <td>18</td>\n",
              "    </tr>\n",
              "    <tr>\n",
              "      <th>3</th>\n",
              "      <td>10003</td>\n",
              "      <td>Current_account</td>\n",
              "      <td>Revo</td>\n",
              "      <td>Revo_10003</td>\n",
              "      <td>2018-05-03</td>\n",
              "      <td>Coffee shops</td>\n",
              "      <td>variable</td>\n",
              "      <td>GBP</td>\n",
              "      <td>-7.09</td>\n",
              "      <td>2018</td>\n",
              "      <td>5</td>\n",
              "      <td>18</td>\n",
              "    </tr>\n",
              "    <tr>\n",
              "      <th>4</th>\n",
              "      <td>10004</td>\n",
              "      <td>Current_account</td>\n",
              "      <td>Revo</td>\n",
              "      <td>Revo_10004</td>\n",
              "      <td>2018-05-04</td>\n",
              "      <td>Coffee shops</td>\n",
              "      <td>variable</td>\n",
              "      <td>GBP</td>\n",
              "      <td>-9.10</td>\n",
              "      <td>2018</td>\n",
              "      <td>5</td>\n",
              "      <td>18</td>\n",
              "    </tr>\n",
              "    <tr>\n",
              "      <th>5</th>\n",
              "      <td>10005</td>\n",
              "      <td>Current_account</td>\n",
              "      <td>Revo</td>\n",
              "      <td>Revo_10005</td>\n",
              "      <td>2018-05-05</td>\n",
              "      <td>eating_out</td>\n",
              "      <td>variable</td>\n",
              "      <td>GBP</td>\n",
              "      <td>-73.66</td>\n",
              "      <td>2018</td>\n",
              "      <td>5</td>\n",
              "      <td>18</td>\n",
              "    </tr>\n",
              "    <tr>\n",
              "      <th>...</th>\n",
              "      <td>...</td>\n",
              "      <td>...</td>\n",
              "      <td>...</td>\n",
              "      <td>...</td>\n",
              "      <td>...</td>\n",
              "      <td>...</td>\n",
              "      <td>...</td>\n",
              "      <td>...</td>\n",
              "      <td>...</td>\n",
              "      <td>...</td>\n",
              "      <td>...</td>\n",
              "      <td>...</td>\n",
              "    </tr>\n",
              "    <tr>\n",
              "      <th>962</th>\n",
              "      <td>10962</td>\n",
              "      <td>Current_account</td>\n",
              "      <td>Revo</td>\n",
              "      <td>Revo_10962</td>\n",
              "      <td>2020-03-28</td>\n",
              "      <td>Coffee shops</td>\n",
              "      <td>variable</td>\n",
              "      <td>GBP</td>\n",
              "      <td>-4.48</td>\n",
              "      <td>2020</td>\n",
              "      <td>3</td>\n",
              "      <td>13</td>\n",
              "    </tr>\n",
              "    <tr>\n",
              "      <th>963</th>\n",
              "      <td>10963</td>\n",
              "      <td>Current_account</td>\n",
              "      <td>Revo</td>\n",
              "      <td>Revo_10963</td>\n",
              "      <td>2020-03-29</td>\n",
              "      <td>Coffee shops</td>\n",
              "      <td>variable</td>\n",
              "      <td>GBP</td>\n",
              "      <td>-4.65</td>\n",
              "      <td>2020</td>\n",
              "      <td>3</td>\n",
              "      <td>14</td>\n",
              "    </tr>\n",
              "    <tr>\n",
              "      <th>964</th>\n",
              "      <td>10964</td>\n",
              "      <td>Current_account</td>\n",
              "      <td>Revo</td>\n",
              "      <td>Revo_10964</td>\n",
              "      <td>2020-03-30</td>\n",
              "      <td>Clothing</td>\n",
              "      <td>variable</td>\n",
              "      <td>GBP</td>\n",
              "      <td>-21.06</td>\n",
              "      <td>2020</td>\n",
              "      <td>3</td>\n",
              "      <td>14</td>\n",
              "    </tr>\n",
              "    <tr>\n",
              "      <th>965</th>\n",
              "      <td>10965</td>\n",
              "      <td>Current_account</td>\n",
              "      <td>Revo</td>\n",
              "      <td>Revo_10965</td>\n",
              "      <td>2020-03-30</td>\n",
              "      <td>eating_out</td>\n",
              "      <td>variable</td>\n",
              "      <td>GBP</td>\n",
              "      <td>-10.00</td>\n",
              "      <td>2020</td>\n",
              "      <td>3</td>\n",
              "      <td>14</td>\n",
              "    </tr>\n",
              "    <tr>\n",
              "      <th>966</th>\n",
              "      <td>10966</td>\n",
              "      <td>Current_account</td>\n",
              "      <td>Revo</td>\n",
              "      <td>Revo_10966</td>\n",
              "      <td>2020-03-31</td>\n",
              "      <td>groceries</td>\n",
              "      <td>variable</td>\n",
              "      <td>GBP</td>\n",
              "      <td>-11.82</td>\n",
              "      <td>2020</td>\n",
              "      <td>3</td>\n",
              "      <td>14</td>\n",
              "    </tr>\n",
              "  </tbody>\n",
              "</table>\n",
              "<p>750 rows × 12 columns</p>\n",
              "</div>"
            ],
            "text/plain": [
              "        id       account_id bankCode cashcoachId  ... amount  year month week\n",
              "0    10000  Current_account     Revo  Revo_10000  ...  -7.80  2018     5   18\n",
              "2    10002  Current_account     Revo  Revo_10002  ...  -5.24  2018     5   18\n",
              "3    10003  Current_account     Revo  Revo_10003  ...  -7.09  2018     5   18\n",
              "4    10004  Current_account     Revo  Revo_10004  ...  -9.10  2018     5   18\n",
              "5    10005  Current_account     Revo  Revo_10005  ... -73.66  2018     5   18\n",
              "..     ...              ...      ...         ...  ...    ...   ...   ...  ...\n",
              "962  10962  Current_account     Revo  Revo_10962  ...  -4.48  2020     3   13\n",
              "963  10963  Current_account     Revo  Revo_10963  ...  -4.65  2020     3   14\n",
              "964  10964  Current_account     Revo  Revo_10964  ... -21.06  2020     3   14\n",
              "965  10965  Current_account     Revo  Revo_10965  ... -10.00  2020     3   14\n",
              "966  10966  Current_account     Revo  Revo_10966  ... -11.82  2020     3   14\n",
              "\n",
              "[750 rows x 12 columns]"
            ]
          },
          "metadata": {
            "tags": []
          },
          "execution_count": 61
        }
      ]
    },
    {
      "cell_type": "code",
      "metadata": {
        "id": "gJE0goKtAuN-",
        "outputId": "7c41cd3a-6b5f-4805-de8d-54c46468b0d6",
        "colab": {
          "base_uri": "https://localhost:8080/",
          "height": 283
        }
      },
      "source": [
        "plt.scatter(df1['category_lvl2'],df1['amount'])"
      ],
      "execution_count": 62,
      "outputs": [
        {
          "output_type": "execute_result",
          "data": {
            "text/plain": [
              "<matplotlib.collections.PathCollection at 0x7ff103075390>"
            ]
          },
          "metadata": {
            "tags": []
          },
          "execution_count": 62
        },
        {
          "output_type": "display_data",
          "data": {
            "image/png": "[encoded data removed]",
            "text/plain": [
              "<Figure size 432x288 with 1 Axes>"
            ]
          },
          "metadata": {
            "tags": [],
            "needs_background": "light"
          }
        }
      ]
    },
    {
      "cell_type": "code",
      "metadata": {
        "id": "0SWaRC4tBUzM"
      },
      "source": [
        "s_corr = df1.category_lvl2.str.get_dummies(sep=' ').corrwith(df1.amount/df1.amount.max())\n"
      ],
      "execution_count": 96,
      "outputs": []
    },
    {
      "cell_type": "code",
      "metadata": {
        "id": "5hfhZiRfB4Fl",
        "outputId": "db5af41a-8fa9-4212-c683-f4518999a4e8",
        "colab": {
          "base_uri": "https://localhost:8080/",
          "height": 272
        }
      },
      "source": [
        "s_corr"
      ],
      "execution_count": 97,
      "outputs": [
        {
          "output_type": "execute_result",
          "data": {
            "text/plain": [
              "Books        -0.035858\n",
              "Check        -0.362746\n",
              "Clothing     -0.132417\n",
              "Coffee        0.247163\n",
              "Fee           0.009437\n",
              "General      -0.131871\n",
              "Home         -0.353641\n",
              "Local        -0.052625\n",
              "Service       0.009437\n",
              "Tax          -0.052625\n",
              "eating_out   -0.015402\n",
              "groceries    -0.019130\n",
              "pharmacy      0.010223\n",
              "shops         0.247163\n",
              "dtype: float64"
            ]
          },
          "metadata": {
            "tags": []
          },
          "execution_count": 97
        }
      ]
    },
    {
      "cell_type": "code",
      "metadata": {
        "id": "hHoCCzMHgKIt",
        "outputId": "ede55f8d-2368-4327-f85d-8edcec2a48f4",
        "colab": {
          "base_uri": "https://localhost:8080/",
          "height": 419
        }
      },
      "source": [
        "df2 = df1[['amount','category_lvl2_num']]\n",
        "df2"
      ],
      "execution_count": 106,
      "outputs": [
        {
          "output_type": "execute_result",
          "data": {
            "text/html": [
              "<div>\n",
              "<style scoped>\n",
              "    .dataframe tbody tr th:only-of-type {\n",
              "        vertical-align: middle;\n",
              "    }\n",
              "\n",
              "    .dataframe tbody tr th {\n",
              "        vertical-align: top;\n",
              "    }\n",
              "\n",
              "    .dataframe thead th {\n",
              "        text-align: right;\n",
              "    }\n",
              "</style>\n",
              "<table border=\"1\" class=\"dataframe\">\n",
              "  <thead>\n",
              "    <tr style=\"text-align: right;\">\n",
              "      <th></th>\n",
              "      <th>amount</th>\n",
              "      <th>category_lvl2_num</th>\n",
              "    </tr>\n",
              "  </thead>\n",
              "  <tbody>\n",
              "    <tr>\n",
              "      <th>0</th>\n",
              "      <td>-7.80</td>\n",
              "      <td>3</td>\n",
              "    </tr>\n",
              "    <tr>\n",
              "      <th>2</th>\n",
              "      <td>-5.24</td>\n",
              "      <td>3</td>\n",
              "    </tr>\n",
              "    <tr>\n",
              "      <th>3</th>\n",
              "      <td>-7.09</td>\n",
              "      <td>3</td>\n",
              "    </tr>\n",
              "    <tr>\n",
              "      <th>4</th>\n",
              "      <td>-9.10</td>\n",
              "      <td>3</td>\n",
              "    </tr>\n",
              "    <tr>\n",
              "      <th>5</th>\n",
              "      <td>-73.66</td>\n",
              "      <td>8</td>\n",
              "    </tr>\n",
              "    <tr>\n",
              "      <th>...</th>\n",
              "      <td>...</td>\n",
              "      <td>...</td>\n",
              "    </tr>\n",
              "    <tr>\n",
              "      <th>962</th>\n",
              "      <td>-4.48</td>\n",
              "      <td>3</td>\n",
              "    </tr>\n",
              "    <tr>\n",
              "      <th>963</th>\n",
              "      <td>-4.65</td>\n",
              "      <td>3</td>\n",
              "    </tr>\n",
              "    <tr>\n",
              "      <th>964</th>\n",
              "      <td>-21.06</td>\n",
              "      <td>2</td>\n",
              "    </tr>\n",
              "    <tr>\n",
              "      <th>965</th>\n",
              "      <td>-10.00</td>\n",
              "      <td>8</td>\n",
              "    </tr>\n",
              "    <tr>\n",
              "      <th>966</th>\n",
              "      <td>-11.82</td>\n",
              "      <td>9</td>\n",
              "    </tr>\n",
              "  </tbody>\n",
              "</table>\n",
              "<p>750 rows × 2 columns</p>\n",
              "</div>"
            ],
            "text/plain": [
              "     amount  category_lvl2_num\n",
              "0     -7.80                  3\n",
              "2     -5.24                  3\n",
              "3     -7.09                  3\n",
              "4     -9.10                  3\n",
              "5    -73.66                  8\n",
              "..      ...                ...\n",
              "962   -4.48                  3\n",
              "963   -4.65                  3\n",
              "964  -21.06                  2\n",
              "965  -10.00                  8\n",
              "966  -11.82                  9\n",
              "\n",
              "[750 rows x 2 columns]"
            ]
          },
          "metadata": {
            "tags": []
          },
          "execution_count": 106
        }
      ]
    },
    {
      "cell_type": "code",
      "metadata": {
        "id": "VUHUzy6th6Zz",
        "outputId": "c48cfeda-ffc1-4d5a-9840-31497719976d",
        "colab": {
          "base_uri": "https://localhost:8080/",
          "height": 802
        }
      },
      "source": [
        "!pip install pingouin"
      ],
      "execution_count": 110,
      "outputs": [
        {
          "output_type": "stream",
          "text": [
            "Collecting pingouin\n",
            "\u001b[?25l  Downloading https://files.pythonhosted.org/packages/e6/5f/4618f878765a8b7037b8831f19105c5c2764b26e5e9afa4a29c58fc11d26/pingouin-0.3.8.tar.gz (223kB)\n",
            "\r\u001b[K     |█▌                              | 10kB 17.4MB/s eta 0:00:01\r\u001b[K     |███                             | 20kB 1.7MB/s eta 0:00:01\r\u001b[K     |████▍                           | 30kB 2.2MB/s eta 0:00:01\r\u001b[K     |█████▉                          | 40kB 2.5MB/s eta 0:00:01\r\u001b[K     |███████▍                        | 51kB 2.0MB/s eta 0:00:01\r\u001b[K     |████████▉                       | 61kB 2.3MB/s eta 0:00:01\r\u001b[K     |██████████▎                     | 71kB 2.5MB/s eta 0:00:01\r\u001b[K     |███████████▊                    | 81kB 2.8MB/s eta 0:00:01\r\u001b[K     |█████████████▏                  | 92kB 3.0MB/s eta 0:00:01\r\u001b[K     |██████████████▊                 | 102kB 2.8MB/s eta 0:00:01\r\u001b[K     |████████████████▏               | 112kB 2.8MB/s eta 0:00:01\r\u001b[K     |█████████████████▋              | 122kB 2.8MB/s eta 0:00:01\r\u001b[K     |███████████████████             | 133kB 2.8MB/s eta 0:00:01\r\u001b[K     |████████████████████▌           | 143kB 2.8MB/s eta 0:00:01\r\u001b[K     |██████████████████████          | 153kB 2.8MB/s eta 0:00:01\r\u001b[K     |███████████████████████▌        | 163kB 2.8MB/s eta 0:00:01\r\u001b[K     |█████████████████████████       | 174kB 2.8MB/s eta 0:00:01\r\u001b[K     |██████████████████████████▍     | 184kB 2.8MB/s eta 0:00:01\r\u001b[K     |████████████████████████████    | 194kB 2.8MB/s eta 0:00:01\r\u001b[K     |█████████████████████████████▍  | 204kB 2.8MB/s eta 0:00:01\r\u001b[K     |██████████████████████████████▉ | 215kB 2.8MB/s eta 0:00:01\r\u001b[K     |████████████████████████████████| 225kB 2.8MB/s \n",
            "\u001b[?25hRequirement already satisfied: numpy>=1.15 in /usr/local/lib/python3.6/dist-packages (from pingouin) (1.18.5)\n",
            "Requirement already satisfied: scipy>=1.3 in /usr/local/lib/python3.6/dist-packages (from pingouin) (1.4.1)\n",
            "Requirement already satisfied: pandas>=0.24 in /usr/local/lib/python3.6/dist-packages (from pingouin) (1.0.5)\n",
            "Requirement already satisfied: matplotlib>=3.0.2 in /usr/local/lib/python3.6/dist-packages (from pingouin) (3.2.2)\n",
            "Requirement already satisfied: seaborn>=0.9.0 in /usr/local/lib/python3.6/dist-packages (from pingouin) (0.10.1)\n",
            "Requirement already satisfied: statsmodels>=0.10.0 in /usr/local/lib/python3.6/dist-packages (from pingouin) (0.10.2)\n",
            "Requirement already satisfied: scikit-learn in /usr/local/lib/python3.6/dist-packages (from pingouin) (0.22.2.post1)\n",
            "Collecting pandas_flavor>=0.1.2\n",
            "  Downloading https://files.pythonhosted.org/packages/9a/57/7fbcff4c0961ed190ac5fcb0bd8194152ee1ee6487edf64fdbae16e2bc4b/pandas_flavor-0.2.0-py2.py3-none-any.whl\n",
            "Collecting outdated\n",
            "  Downloading https://files.pythonhosted.org/packages/86/70/2f166266438a30e94140f00c99c0eac1c45807981052a1d4c123660e1323/outdated-0.2.0.tar.gz\n",
            "Requirement already satisfied: tabulate in /usr/local/lib/python3.6/dist-packages (from pingouin) (0.8.7)\n",
            "Requirement already satisfied: python-dateutil>=2.6.1 in /usr/local/lib/python3.6/dist-packages (from pandas>=0.24->pingouin) (2.8.1)\n",
            "Requirement already satisfied: pytz>=2017.2 in /usr/local/lib/python3.6/dist-packages (from pandas>=0.24->pingouin) (2018.9)\n",
            "Requirement already satisfied: cycler>=0.10 in /usr/local/lib/python3.6/dist-packages (from matplotlib>=3.0.2->pingouin) (0.10.0)\n",
            "Requirement already satisfied: pyparsing!=2.0.4,!=2.1.2,!=2.1.6,>=2.0.1 in /usr/local/lib/python3.6/dist-packages (from matplotlib>=3.0.2->pingouin) (2.4.7)\n",
            "Requirement already satisfied: kiwisolver>=1.0.1 in /usr/local/lib/python3.6/dist-packages (from matplotlib>=3.0.2->pingouin) (1.2.0)\n",
            "Requirement already satisfied: patsy>=0.4.0 in /usr/local/lib/python3.6/dist-packages (from statsmodels>=0.10.0->pingouin) (0.5.1)\n",
            "Requirement already satisfied: joblib>=0.11 in /usr/local/lib/python3.6/dist-packages (from scikit-learn->pingouin) (0.16.0)\n",
            "Requirement already satisfied: xarray in /usr/local/lib/python3.6/dist-packages (from pandas_flavor>=0.1.2->pingouin) (0.15.1)\n",
            "Collecting littleutils\n",
            "  Downloading https://files.pythonhosted.org/packages/4e/b1/bb4e06f010947d67349f863b6a2ad71577f85590180a935f60543f622652/littleutils-0.2.2.tar.gz\n",
            "Requirement already satisfied: requests in /usr/local/lib/python3.6/dist-packages (from outdated->pingouin) (2.23.0)\n",
            "Requirement already satisfied: six>=1.5 in /usr/local/lib/python3.6/dist-packages (from python-dateutil>=2.6.1->pandas>=0.24->pingouin) (1.15.0)\n",
            "Requirement already satisfied: setuptools>=41.2 in /usr/local/lib/python3.6/dist-packages (from xarray->pandas_flavor>=0.1.2->pingouin) (50.3.0)\n",
            "Requirement already satisfied: urllib3!=1.25.0,!=1.25.1,<1.26,>=1.21.1 in /usr/local/lib/python3.6/dist-packages (from requests->outdated->pingouin) (1.24.3)\n",
            "Requirement already satisfied: certifi>=2017.4.17 in /usr/local/lib/python3.6/dist-packages (from requests->outdated->pingouin) (2020.6.20)\n",
            "Requirement already satisfied: chardet<4,>=3.0.2 in /usr/local/lib/python3.6/dist-packages (from requests->outdated->pingouin) (3.0.4)\n",
            "Requirement already satisfied: idna<3,>=2.5 in /usr/local/lib/python3.6/dist-packages (from requests->outdated->pingouin) (2.10)\n",
            "Building wheels for collected packages: pingouin, outdated, littleutils\n",
            "  Building wheel for pingouin (setup.py) ... \u001b[?25l\u001b[?25hdone\n",
            "  Created wheel for pingouin: filename=pingouin-0.3.8-cp36-none-any.whl size=221688 sha256=bbb4e7cdbc0ba237d429e02cb5f73bd6bffdaa8a168e22ceab28a32c954409e3\n",
            "  Stored in directory: /root/.cache/pip/wheels/d6/9e/53/f885f73f29cf7c8cac3d8f4b1532bbfef2f5eb543946ac9055\n",
            "  Building wheel for outdated (setup.py) ... \u001b[?25l\u001b[?25hdone\n",
            "  Created wheel for outdated: filename=outdated-0.2.0-cp36-none-any.whl size=4961 sha256=8958850aeca06a9f1163e637d5cde2b8938cf554699f08822c11bd7707ba4775\n",
            "  Stored in directory: /root/.cache/pip/wheels/fd/7c/ef/814f514d31197310872b5abf353feb8fef9d67ee658e1e7e39\n",
            "  Building wheel for littleutils (setup.py) ... \u001b[?25l\u001b[?25hdone\n",
            "  Created wheel for littleutils: filename=littleutils-0.2.2-cp36-none-any.whl size=7051 sha256=799fb1e9d439ff7e59b16c7820d7de80060285d0d9428ae9a910d66bf8ae255a\n",
            "  Stored in directory: /root/.cache/pip/wheels/53/16/9f/ac67d15c40243754fd73f620e1b9b6dedc20492ecc19a2bae1\n",
            "Successfully built pingouin outdated littleutils\n",
            "Installing collected packages: pandas-flavor, littleutils, outdated, pingouin\n",
            "Successfully installed littleutils-0.2.2 outdated-0.2.0 pandas-flavor-0.2.0 pingouin-0.3.8\n"
          ],
          "name": "stdout"
        }
      ]
    },
    {
      "cell_type": "code",
      "metadata": {
        "id": "8RiTFYq2hZxX",
        "outputId": "830a09ae-aa83-4152-be5a-d472da6330ed",
        "colab": {
          "base_uri": "https://localhost:8080/",
          "height": 181
        }
      },
      "source": [
        "import pingouin as pg\n",
        "normal, p = pg.multivariate_normality(df2, alpha=0.05)"
      ],
      "execution_count": 113,
      "outputs": [
        {
          "output_type": "error",
          "ename": "ValueError",
          "evalue": "ignored",
          "traceback": [
            "\u001b[0;31m---------------------------------------------------------------------------\u001b[0m",
            "\u001b[0;31mValueError\u001b[0m                                Traceback (most recent call last)",
            "\u001b[0;32m<ipython-input-113-bd2076707df0>\u001b[0m in \u001b[0;36m<module>\u001b[0;34m()\u001b[0m\n\u001b[1;32m      1\u001b[0m \u001b[0;32mimport\u001b[0m \u001b[0mpingouin\u001b[0m \u001b[0;32mas\u001b[0m \u001b[0mpg\u001b[0m\u001b[0;34m\u001b[0m\u001b[0;34m\u001b[0m\u001b[0m\n\u001b[0;32m----> 2\u001b[0;31m \u001b[0mnormal\u001b[0m\u001b[0;34m,\u001b[0m \u001b[0mp\u001b[0m \u001b[0;34m=\u001b[0m \u001b[0mpg\u001b[0m\u001b[0;34m.\u001b[0m\u001b[0mmultivariate_normality\u001b[0m\u001b[0;34m(\u001b[0m\u001b[0mdf2\u001b[0m\u001b[0;34m,\u001b[0m \u001b[0malpha\u001b[0m\u001b[0;34m=\u001b[0m\u001b[0;36m1\u001b[0m\u001b[0;34m)\u001b[0m\u001b[0;34m\u001b[0m\u001b[0;34m\u001b[0m\u001b[0m\n\u001b[0m",
            "\u001b[0;31mValueError\u001b[0m: too many values to unpack (expected 2)"
          ]
        }
      ]
    },
    {
      "cell_type": "code",
      "metadata": {
        "id": "2kwRCK4mjq6G",
        "outputId": "2afe48e0-0da2-4777-d56c-c502cb400bba",
        "colab": {
          "base_uri": "https://localhost:8080/",
          "height": 51
        }
      },
      "source": [
        "from scipy.stats import shapiro\n",
        "\n",
        "shapiro_results = shapiro(df2)\n",
        "print(\"Shapiro results:\", shapiro_results)\n",
        "\n",
        "# Extract the p-value from the shapiro_results\n",
        "p_value = shapiro_results[1]\n",
        "print(\"P-value: \", p_value)"
      ],
      "execution_count": 116,
      "outputs": [
        {
          "output_type": "stream",
          "text": [
            "Shapiro results: (0.15417587757110596, 0.0)\n",
            "P-value:  0.0\n"
          ],
          "name": "stdout"
        }
      ]
    },
    {
      "cell_type": "markdown",
      "metadata": {
        "id": "ZSokhzDQizZG"
      },
      "source": [
        "**ANSWER 2**\n",
        "\n",
        "To start with the statistical modelling of the data, we will have to perform some exploratory data analyses on the given data, to refine and get more insights for a lower error rate. \n",
        "\n",
        "We commenced with performing missing value analysis and observed the data to be complete and have no missing values. \n",
        "\n",
        "Continuing further we tried to understand the data with visualisations and found where the spendings are increasing and decreasing. We also checked how the data is correlated to each other and converted the categories into integers in order to maintain same datatypes and see how well the data is correlated.\n",
        "We were able to observe that the maximum amount was spent in coffee shops and Friday was the day of maximum expenses. \n",
        "\n",
        "We took \"amount\" to be our target variable since that is what we were trying to predict. Since it's an integer value, we will be going with regression analysis. \n",
        "\n",
        "To find the weekly expenses, we will have to find on what days was the money being spent, hence we used the variable \"made_on\" as our time stamp of expenses and found the weekdays using dt.dayofweek function. Followed by which we created a testing database of 6th day of the week (starting with 0), which came out to be Sunday. And our training data had expenses from Monday to Saturday's expenditures. \n",
        "\n",
        "Due to shortage of time and unfamiliarity with the VAR model, I was unable to create a prediction model and provide concrete insights. However, if considered, I would send this model latest by today evening to provide you with complete answers along with the answer of the 8th question. \n",
        "\n",
        "I understand it mmight not be considered in my technical round result, but it wouldn't be a problem.\n",
        "\n",
        "Thank you for this opportunity."
      ]
    },
    {
      "cell_type": "code",
      "metadata": {
        "id": "UPnK3HOkNJjk",
        "outputId": "c516ba29-b1ee-407f-986b-ebdca40cfee8",
        "colab": {
          "base_uri": "https://localhost:8080/",
          "height": 421
        }
      },
      "source": [
        "mv=pd.DataFrame(df1.isnull().sum())\n",
        "mv"
      ],
      "execution_count": 65,
      "outputs": [
        {
          "output_type": "execute_result",
          "data": {
            "text/html": [
              "<div>\n",
              "<style scoped>\n",
              "    .dataframe tbody tr th:only-of-type {\n",
              "        vertical-align: middle;\n",
              "    }\n",
              "\n",
              "    .dataframe tbody tr th {\n",
              "        vertical-align: top;\n",
              "    }\n",
              "\n",
              "    .dataframe thead th {\n",
              "        text-align: right;\n",
              "    }\n",
              "</style>\n",
              "<table border=\"1\" class=\"dataframe\">\n",
              "  <thead>\n",
              "    <tr style=\"text-align: right;\">\n",
              "      <th></th>\n",
              "      <th>0</th>\n",
              "    </tr>\n",
              "  </thead>\n",
              "  <tbody>\n",
              "    <tr>\n",
              "      <th>id</th>\n",
              "      <td>0</td>\n",
              "    </tr>\n",
              "    <tr>\n",
              "      <th>account_id</th>\n",
              "      <td>0</td>\n",
              "    </tr>\n",
              "    <tr>\n",
              "      <th>bankCode</th>\n",
              "      <td>0</td>\n",
              "    </tr>\n",
              "    <tr>\n",
              "      <th>cashcoachId</th>\n",
              "      <td>0</td>\n",
              "    </tr>\n",
              "    <tr>\n",
              "      <th>made_on</th>\n",
              "      <td>0</td>\n",
              "    </tr>\n",
              "    <tr>\n",
              "      <th>category_lvl2</th>\n",
              "      <td>0</td>\n",
              "    </tr>\n",
              "    <tr>\n",
              "      <th>category_lvl1</th>\n",
              "      <td>0</td>\n",
              "    </tr>\n",
              "    <tr>\n",
              "      <th>currency_code</th>\n",
              "      <td>0</td>\n",
              "    </tr>\n",
              "    <tr>\n",
              "      <th>amount</th>\n",
              "      <td>0</td>\n",
              "    </tr>\n",
              "    <tr>\n",
              "      <th>year</th>\n",
              "      <td>0</td>\n",
              "    </tr>\n",
              "    <tr>\n",
              "      <th>month</th>\n",
              "      <td>0</td>\n",
              "    </tr>\n",
              "    <tr>\n",
              "      <th>week</th>\n",
              "      <td>0</td>\n",
              "    </tr>\n",
              "  </tbody>\n",
              "</table>\n",
              "</div>"
            ],
            "text/plain": [
              "               0\n",
              "id             0\n",
              "account_id     0\n",
              "bankCode       0\n",
              "cashcoachId    0\n",
              "made_on        0\n",
              "category_lvl2  0\n",
              "category_lvl1  0\n",
              "currency_code  0\n",
              "amount         0\n",
              "year           0\n",
              "month          0\n",
              "week           0"
            ]
          },
          "metadata": {
            "tags": []
          },
          "execution_count": 65
        }
      ]
    },
    {
      "cell_type": "code",
      "metadata": {
        "id": "A7BqbSYINAjR",
        "outputId": "523a5ba1-a316-4c3f-d857-fc4f1b9015ce",
        "colab": {
          "base_uri": "https://localhost:8080/",
          "height": 139
        }
      },
      "source": [
        "df1['weekday'] = df1['made_on'].dt.dayofweek\n"
      ],
      "execution_count": 66,
      "outputs": [
        {
          "output_type": "stream",
          "text": [
            "/usr/local/lib/python3.6/dist-packages/ipykernel_launcher.py:1: SettingWithCopyWarning: \n",
            "A value is trying to be set on a copy of a slice from a DataFrame.\n",
            "Try using .loc[row_indexer,col_indexer] = value instead\n",
            "\n",
            "See the caveats in the documentation: https://pandas.pydata.org/pandas-docs/stable/user_guide/indexing.html#returning-a-view-versus-a-copy\n",
            "  \"\"\"Entry point for launching an IPython kernel.\n"
          ],
          "name": "stderr"
        }
      ]
    },
    {
      "cell_type": "code",
      "metadata": {
        "id": "HsNtPZneWE4N",
        "outputId": "7550f1cb-10ce-433f-ab7e-9ed48e7f0d2f",
        "colab": {
          "base_uri": "https://localhost:8080/",
          "height": 235
        }
      },
      "source": [
        "corr = df1.corr()\n",
        "corr"
      ],
      "execution_count": 67,
      "outputs": [
        {
          "output_type": "execute_result",
          "data": {
            "text/html": [
              "<div>\n",
              "<style scoped>\n",
              "    .dataframe tbody tr th:only-of-type {\n",
              "        vertical-align: middle;\n",
              "    }\n",
              "\n",
              "    .dataframe tbody tr th {\n",
              "        vertical-align: top;\n",
              "    }\n",
              "\n",
              "    .dataframe thead th {\n",
              "        text-align: right;\n",
              "    }\n",
              "</style>\n",
              "<table border=\"1\" class=\"dataframe\">\n",
              "  <thead>\n",
              "    <tr style=\"text-align: right;\">\n",
              "      <th></th>\n",
              "      <th>id</th>\n",
              "      <th>amount</th>\n",
              "      <th>year</th>\n",
              "      <th>month</th>\n",
              "      <th>week</th>\n",
              "      <th>weekday</th>\n",
              "    </tr>\n",
              "  </thead>\n",
              "  <tbody>\n",
              "    <tr>\n",
              "      <th>id</th>\n",
              "      <td>1.000000</td>\n",
              "      <td>0.003207</td>\n",
              "      <td>0.912835</td>\n",
              "      <td>-0.208051</td>\n",
              "      <td>-0.198499</td>\n",
              "      <td>0.026450</td>\n",
              "    </tr>\n",
              "    <tr>\n",
              "      <th>amount</th>\n",
              "      <td>0.003207</td>\n",
              "      <td>1.000000</td>\n",
              "      <td>0.012160</td>\n",
              "      <td>-0.021118</td>\n",
              "      <td>-0.028138</td>\n",
              "      <td>-0.113888</td>\n",
              "    </tr>\n",
              "    <tr>\n",
              "      <th>year</th>\n",
              "      <td>0.912835</td>\n",
              "      <td>0.012160</td>\n",
              "      <td>1.000000</td>\n",
              "      <td>-0.570528</td>\n",
              "      <td>-0.565080</td>\n",
              "      <td>0.022838</td>\n",
              "    </tr>\n",
              "    <tr>\n",
              "      <th>month</th>\n",
              "      <td>-0.208051</td>\n",
              "      <td>-0.021118</td>\n",
              "      <td>-0.570528</td>\n",
              "      <td>1.000000</td>\n",
              "      <td>0.995595</td>\n",
              "      <td>-0.003555</td>\n",
              "    </tr>\n",
              "    <tr>\n",
              "      <th>week</th>\n",
              "      <td>-0.198499</td>\n",
              "      <td>-0.028138</td>\n",
              "      <td>-0.565080</td>\n",
              "      <td>0.995595</td>\n",
              "      <td>1.000000</td>\n",
              "      <td>-0.009914</td>\n",
              "    </tr>\n",
              "    <tr>\n",
              "      <th>weekday</th>\n",
              "      <td>0.026450</td>\n",
              "      <td>-0.113888</td>\n",
              "      <td>0.022838</td>\n",
              "      <td>-0.003555</td>\n",
              "      <td>-0.009914</td>\n",
              "      <td>1.000000</td>\n",
              "    </tr>\n",
              "  </tbody>\n",
              "</table>\n",
              "</div>"
            ],
            "text/plain": [
              "               id    amount      year     month      week   weekday\n",
              "id       1.000000  0.003207  0.912835 -0.208051 -0.198499  0.026450\n",
              "amount   0.003207  1.000000  0.012160 -0.021118 -0.028138 -0.113888\n",
              "year     0.912835  0.012160  1.000000 -0.570528 -0.565080  0.022838\n",
              "month   -0.208051 -0.021118 -0.570528  1.000000  0.995595 -0.003555\n",
              "week    -0.198499 -0.028138 -0.565080  0.995595  1.000000 -0.009914\n",
              "weekday  0.026450 -0.113888  0.022838 -0.003555 -0.009914  1.000000"
            ]
          },
          "metadata": {
            "tags": []
          },
          "execution_count": 67
        }
      ]
    },
    {
      "cell_type": "code",
      "metadata": {
        "id": "FNwhse1nWUBB",
        "outputId": "0ff97ab4-4c5d-4559-c6dd-6378d7d16acb",
        "colab": {
          "base_uri": "https://localhost:8080/",
          "height": 636
        }
      },
      "source": [
        "import seaborn as sns\n",
        "plt.figure(figsize=(18,10))\n",
        "sns.heatmap(corr,cmap='coolwarm',annot=True)\n",
        "plt.title('Correlations', size = 28)"
      ],
      "execution_count": 68,
      "outputs": [
        {
          "output_type": "execute_result",
          "data": {
            "text/plain": [
              "Text(0.5, 1.0, 'Correlations')"
            ]
          },
          "metadata": {
            "tags": []
          },
          "execution_count": 68
        },
        {
          "output_type": "display_data",
          "data": {
            "image/png": "[encoded data removed]",
            "text/plain": [
              "<Figure size 1296x720 with 2 Axes>"
            ]
          },
          "metadata": {
            "tags": [],
            "needs_background": "light"
          }
        }
      ]
    },
    {
      "cell_type": "code",
      "metadata": {
        "id": "z-hxS15mOjuH",
        "outputId": "0dd6a327-e55b-4c8d-c305-69332b202380",
        "colab": {
          "base_uri": "https://localhost:8080/",
          "height": 265
        }
      },
      "source": [
        "plt.plot(df1['weekday'],df1['amount'])\n",
        "#plt.xlabel(df1_train['amount'])\n",
        "#plt.ylabel(df1_train['weekday'])\n",
        "plt.show()\n"
      ],
      "execution_count": 69,
      "outputs": [
        {
          "output_type": "display_data",
          "data": {
            "image/png": "[encoded data removed]",
            "text/plain": [
              "<Figure size 432x288 with 1 Axes>"
            ]
          },
          "metadata": {
            "tags": [],
            "needs_background": "light"
          }
        }
      ]
    },
    {
      "cell_type": "code",
      "metadata": {
        "id": "cZt19pqeXatP",
        "outputId": "67baae40-fe57-446b-d5fd-634605e07f69",
        "colab": {
          "base_uri": "https://localhost:8080/",
          "height": 538
        }
      },
      "source": [
        "df1[['weekday']].plot.kde(figsize=(18,10),legend=True);\n",
        "plt.tight_layout()"
      ],
      "execution_count": 70,
      "outputs": [
        {
          "output_type": "display_data",
          "data": {
            "image/png": "[encoded data removed]",
            "text/plain": [
              "<Figure size 1296x720 with 1 Axes>"
            ]
          },
          "metadata": {
            "tags": [],
            "needs_background": "light"
          }
        }
      ]
    },
    {
      "cell_type": "code",
      "metadata": {
        "id": "9mEG9bBkZNgL",
        "outputId": "1f5bc752-bbde-4e08-a5a4-deccf44b4e9f",
        "colab": {
          "base_uri": "https://localhost:8080/",
          "height": 139
        }
      },
      "source": [
        "df1[['category_lvl2_num']] = df1[['category_lvl2']].apply(lambda col:pd.Categorical(col).codes)\n"
      ],
      "execution_count": 77,
      "outputs": [
        {
          "output_type": "stream",
          "text": [
            "/usr/local/lib/python3.6/dist-packages/pandas/core/frame.py:2963: SettingWithCopyWarning: \n",
            "A value is trying to be set on a copy of a slice from a DataFrame.\n",
            "Try using .loc[row_indexer,col_indexer] = value instead\n",
            "\n",
            "See the caveats in the documentation: https://pandas.pydata.org/pandas-docs/stable/user_guide/indexing.html#returning-a-view-versus-a-copy\n",
            "  self[k1] = value[k2]\n"
          ],
          "name": "stderr"
        }
      ]
    },
    {
      "cell_type": "code",
      "metadata": {
        "id": "tizb42wzZspg",
        "outputId": "cb9a1a9c-4d48-4fd4-c286-e38ba9eff8e4",
        "colab": {
          "base_uri": "https://localhost:8080/",
          "height": 609
        }
      },
      "source": [
        "df1\n"
      ],
      "execution_count": 78,
      "outputs": [
        {
          "output_type": "execute_result",
          "data": {
            "text/html": [
              "<div>\n",
              "<style scoped>\n",
              "    .dataframe tbody tr th:only-of-type {\n",
              "        vertical-align: middle;\n",
              "    }\n",
              "\n",
              "    .dataframe tbody tr th {\n",
              "        vertical-align: top;\n",
              "    }\n",
              "\n",
              "    .dataframe thead th {\n",
              "        text-align: right;\n",
              "    }\n",
              "</style>\n",
              "<table border=\"1\" class=\"dataframe\">\n",
              "  <thead>\n",
              "    <tr style=\"text-align: right;\">\n",
              "      <th></th>\n",
              "      <th>id</th>\n",
              "      <th>account_id</th>\n",
              "      <th>bankCode</th>\n",
              "      <th>cashcoachId</th>\n",
              "      <th>made_on</th>\n",
              "      <th>category_lvl2</th>\n",
              "      <th>category_lvl1</th>\n",
              "      <th>currency_code</th>\n",
              "      <th>amount</th>\n",
              "      <th>year</th>\n",
              "      <th>month</th>\n",
              "      <th>week</th>\n",
              "      <th>weekday</th>\n",
              "      <th>category_lvl2_num</th>\n",
              "    </tr>\n",
              "  </thead>\n",
              "  <tbody>\n",
              "    <tr>\n",
              "      <th>0</th>\n",
              "      <td>10000</td>\n",
              "      <td>Current_account</td>\n",
              "      <td>Revo</td>\n",
              "      <td>Revo_10000</td>\n",
              "      <td>2018-05-01</td>\n",
              "      <td>Coffee shops</td>\n",
              "      <td>variable</td>\n",
              "      <td>GBP</td>\n",
              "      <td>-7.80</td>\n",
              "      <td>2018</td>\n",
              "      <td>5</td>\n",
              "      <td>18</td>\n",
              "      <td>1</td>\n",
              "      <td>3</td>\n",
              "    </tr>\n",
              "    <tr>\n",
              "      <th>2</th>\n",
              "      <td>10002</td>\n",
              "      <td>Current_account</td>\n",
              "      <td>Revo</td>\n",
              "      <td>Revo_10002</td>\n",
              "      <td>2018-05-02</td>\n",
              "      <td>Coffee shops</td>\n",
              "      <td>variable</td>\n",
              "      <td>GBP</td>\n",
              "      <td>-5.24</td>\n",
              "      <td>2018</td>\n",
              "      <td>5</td>\n",
              "      <td>18</td>\n",
              "      <td>2</td>\n",
              "      <td>3</td>\n",
              "    </tr>\n",
              "    <tr>\n",
              "      <th>3</th>\n",
              "      <td>10003</td>\n",
              "      <td>Current_account</td>\n",
              "      <td>Revo</td>\n",
              "      <td>Revo_10003</td>\n",
              "      <td>2018-05-03</td>\n",
              "      <td>Coffee shops</td>\n",
              "      <td>variable</td>\n",
              "      <td>GBP</td>\n",
              "      <td>-7.09</td>\n",
              "      <td>2018</td>\n",
              "      <td>5</td>\n",
              "      <td>18</td>\n",
              "      <td>3</td>\n",
              "      <td>3</td>\n",
              "    </tr>\n",
              "    <tr>\n",
              "      <th>4</th>\n",
              "      <td>10004</td>\n",
              "      <td>Current_account</td>\n",
              "      <td>Revo</td>\n",
              "      <td>Revo_10004</td>\n",
              "      <td>2018-05-04</td>\n",
              "      <td>Coffee shops</td>\n",
              "      <td>variable</td>\n",
              "      <td>GBP</td>\n",
              "      <td>-9.10</td>\n",
              "      <td>2018</td>\n",
              "      <td>5</td>\n",
              "      <td>18</td>\n",
              "      <td>4</td>\n",
              "      <td>3</td>\n",
              "    </tr>\n",
              "    <tr>\n",
              "      <th>5</th>\n",
              "      <td>10005</td>\n",
              "      <td>Current_account</td>\n",
              "      <td>Revo</td>\n",
              "      <td>Revo_10005</td>\n",
              "      <td>2018-05-05</td>\n",
              "      <td>eating_out</td>\n",
              "      <td>variable</td>\n",
              "      <td>GBP</td>\n",
              "      <td>-73.66</td>\n",
              "      <td>2018</td>\n",
              "      <td>5</td>\n",
              "      <td>18</td>\n",
              "      <td>5</td>\n",
              "      <td>8</td>\n",
              "    </tr>\n",
              "    <tr>\n",
              "      <th>...</th>\n",
              "      <td>...</td>\n",
              "      <td>...</td>\n",
              "      <td>...</td>\n",
              "      <td>...</td>\n",
              "      <td>...</td>\n",
              "      <td>...</td>\n",
              "      <td>...</td>\n",
              "      <td>...</td>\n",
              "      <td>...</td>\n",
              "      <td>...</td>\n",
              "      <td>...</td>\n",
              "      <td>...</td>\n",
              "      <td>...</td>\n",
              "      <td>...</td>\n",
              "    </tr>\n",
              "    <tr>\n",
              "      <th>962</th>\n",
              "      <td>10962</td>\n",
              "      <td>Current_account</td>\n",
              "      <td>Revo</td>\n",
              "      <td>Revo_10962</td>\n",
              "      <td>2020-03-28</td>\n",
              "      <td>Coffee shops</td>\n",
              "      <td>variable</td>\n",
              "      <td>GBP</td>\n",
              "      <td>-4.48</td>\n",
              "      <td>2020</td>\n",
              "      <td>3</td>\n",
              "      <td>13</td>\n",
              "      <td>5</td>\n",
              "      <td>3</td>\n",
              "    </tr>\n",
              "    <tr>\n",
              "      <th>963</th>\n",
              "      <td>10963</td>\n",
              "      <td>Current_account</td>\n",
              "      <td>Revo</td>\n",
              "      <td>Revo_10963</td>\n",
              "      <td>2020-03-29</td>\n",
              "      <td>Coffee shops</td>\n",
              "      <td>variable</td>\n",
              "      <td>GBP</td>\n",
              "      <td>-4.65</td>\n",
              "      <td>2020</td>\n",
              "      <td>3</td>\n",
              "      <td>14</td>\n",
              "      <td>6</td>\n",
              "      <td>3</td>\n",
              "    </tr>\n",
              "    <tr>\n",
              "      <th>964</th>\n",
              "      <td>10964</td>\n",
              "      <td>Current_account</td>\n",
              "      <td>Revo</td>\n",
              "      <td>Revo_10964</td>\n",
              "      <td>2020-03-30</td>\n",
              "      <td>Clothing</td>\n",
              "      <td>variable</td>\n",
              "      <td>GBP</td>\n",
              "      <td>-21.06</td>\n",
              "      <td>2020</td>\n",
              "      <td>3</td>\n",
              "      <td>14</td>\n",
              "      <td>0</td>\n",
              "      <td>2</td>\n",
              "    </tr>\n",
              "    <tr>\n",
              "      <th>965</th>\n",
              "      <td>10965</td>\n",
              "      <td>Current_account</td>\n",
              "      <td>Revo</td>\n",
              "      <td>Revo_10965</td>\n",
              "      <td>2020-03-30</td>\n",
              "      <td>eating_out</td>\n",
              "      <td>variable</td>\n",
              "      <td>GBP</td>\n",
              "      <td>-10.00</td>\n",
              "      <td>2020</td>\n",
              "      <td>3</td>\n",
              "      <td>14</td>\n",
              "      <td>0</td>\n",
              "      <td>8</td>\n",
              "    </tr>\n",
              "    <tr>\n",
              "      <th>966</th>\n",
              "      <td>10966</td>\n",
              "      <td>Current_account</td>\n",
              "      <td>Revo</td>\n",
              "      <td>Revo_10966</td>\n",
              "      <td>2020-03-31</td>\n",
              "      <td>groceries</td>\n",
              "      <td>variable</td>\n",
              "      <td>GBP</td>\n",
              "      <td>-11.82</td>\n",
              "      <td>2020</td>\n",
              "      <td>3</td>\n",
              "      <td>14</td>\n",
              "      <td>1</td>\n",
              "      <td>9</td>\n",
              "    </tr>\n",
              "  </tbody>\n",
              "</table>\n",
              "<p>750 rows × 14 columns</p>\n",
              "</div>"
            ],
            "text/plain": [
              "        id       account_id bankCode  ... week weekday category_lvl2_num\n",
              "0    10000  Current_account     Revo  ...   18       1                 3\n",
              "2    10002  Current_account     Revo  ...   18       2                 3\n",
              "3    10003  Current_account     Revo  ...   18       3                 3\n",
              "4    10004  Current_account     Revo  ...   18       4                 3\n",
              "5    10005  Current_account     Revo  ...   18       5                 8\n",
              "..     ...              ...      ...  ...  ...     ...               ...\n",
              "962  10962  Current_account     Revo  ...   13       5                 3\n",
              "963  10963  Current_account     Revo  ...   14       6                 3\n",
              "964  10964  Current_account     Revo  ...   14       0                 2\n",
              "965  10965  Current_account     Revo  ...   14       0                 8\n",
              "966  10966  Current_account     Revo  ...   14       1                 9\n",
              "\n",
              "[750 rows x 14 columns]"
            ]
          },
          "metadata": {
            "tags": []
          },
          "execution_count": 78
        }
      ]
    },
    {
      "cell_type": "code",
      "metadata": {
        "id": "qtKMaoPgZFAr",
        "outputId": "28293a75-b4d1-4d5f-f365-e2c2b1feab25",
        "colab": {
          "base_uri": "https://localhost:8080/",
          "height": 68
        }
      },
      "source": [
        "df1['category_lvl2'].unique()"
      ],
      "execution_count": 79,
      "outputs": [
        {
          "output_type": "execute_result",
          "data": {
            "text/plain": [
              "array(['Coffee shops', 'eating_out', 'groceries', 'Books', 'pharmacy',\n",
              "       'Clothing', 'Local Tax', 'Home', 'Check', 'General', 'Service Fee'],\n",
              "      dtype=object)"
            ]
          },
          "metadata": {
            "tags": []
          },
          "execution_count": 79
        }
      ]
    },
    {
      "cell_type": "code",
      "metadata": {
        "id": "GOB-zJV0Z_RT",
        "outputId": "2b845299-6802-422e-b68f-da1de353d455",
        "colab": {
          "base_uri": "https://localhost:8080/",
          "height": 34
        }
      },
      "source": [
        "df1['category_lvl2_num'].unique()"
      ],
      "execution_count": 80,
      "outputs": [
        {
          "output_type": "execute_result",
          "data": {
            "text/plain": [
              "array([ 3,  8,  9,  0, 10,  2,  6,  5,  1,  4,  7], dtype=int8)"
            ]
          },
          "metadata": {
            "tags": []
          },
          "execution_count": 80
        }
      ]
    },
    {
      "cell_type": "code",
      "metadata": {
        "id": "T_kgPPtlZyZ8",
        "outputId": "46022279-7adc-42fb-f65d-d4d72e8c843e",
        "colab": {
          "base_uri": "https://localhost:8080/",
          "height": 538
        }
      },
      "source": [
        "df1[['category_lvl2_num']].plot.kde(figsize=(18,10),legend=True);\n",
        "plt.tight_layout()"
      ],
      "execution_count": 81,
      "outputs": [
        {
          "output_type": "display_data",
          "data": {
            "image/png": "[encoded data removed]",
            "text/plain": [
              "<Figure size 1296x720 with 1 Axes>"
            ]
          },
          "metadata": {
            "tags": [],
            "needs_background": "light"
          }
        }
      ]
    },
    {
      "cell_type": "code",
      "metadata": {
        "id": "3DT7aBHcO3pl",
        "outputId": "846555aa-e2f9-4082-fdd4-24bbe5294f29",
        "colab": {
          "base_uri": "https://localhost:8080/",
          "height": 640
        }
      },
      "source": [
        "df1_test=df1.query('weekday==6')\n",
        "df1_test.set_index(['made_on'], inplace=True) \n",
        "df1_test"
      ],
      "execution_count": 31,
      "outputs": [
        {
          "output_type": "execute_result",
          "data": {
            "text/html": [
              "<div>\n",
              "<style scoped>\n",
              "    .dataframe tbody tr th:only-of-type {\n",
              "        vertical-align: middle;\n",
              "    }\n",
              "\n",
              "    .dataframe tbody tr th {\n",
              "        vertical-align: top;\n",
              "    }\n",
              "\n",
              "    .dataframe thead th {\n",
              "        text-align: right;\n",
              "    }\n",
              "</style>\n",
              "<table border=\"1\" class=\"dataframe\">\n",
              "  <thead>\n",
              "    <tr style=\"text-align: right;\">\n",
              "      <th></th>\n",
              "      <th>id</th>\n",
              "      <th>account_id</th>\n",
              "      <th>bankCode</th>\n",
              "      <th>cashcoachId</th>\n",
              "      <th>category_lvl2</th>\n",
              "      <th>category_lvl1</th>\n",
              "      <th>currency_code</th>\n",
              "      <th>amount</th>\n",
              "      <th>year</th>\n",
              "      <th>month</th>\n",
              "      <th>week</th>\n",
              "      <th>weekday</th>\n",
              "    </tr>\n",
              "    <tr>\n",
              "      <th>made_on</th>\n",
              "      <th></th>\n",
              "      <th></th>\n",
              "      <th></th>\n",
              "      <th></th>\n",
              "      <th></th>\n",
              "      <th></th>\n",
              "      <th></th>\n",
              "      <th></th>\n",
              "      <th></th>\n",
              "      <th></th>\n",
              "      <th></th>\n",
              "      <th></th>\n",
              "    </tr>\n",
              "  </thead>\n",
              "  <tbody>\n",
              "    <tr>\n",
              "      <th>2018-05-06</th>\n",
              "      <td>10006</td>\n",
              "      <td>Current_account</td>\n",
              "      <td>Revo</td>\n",
              "      <td>Revo_10006</td>\n",
              "      <td>groceries</td>\n",
              "      <td>variable</td>\n",
              "      <td>GBP</td>\n",
              "      <td>-41.85</td>\n",
              "      <td>2018</td>\n",
              "      <td>5</td>\n",
              "      <td>19</td>\n",
              "      <td>6</td>\n",
              "    </tr>\n",
              "    <tr>\n",
              "      <th>2018-05-13</th>\n",
              "      <td>10017</td>\n",
              "      <td>Current_account</td>\n",
              "      <td>Revo</td>\n",
              "      <td>Revo_10017</td>\n",
              "      <td>groceries</td>\n",
              "      <td>variable</td>\n",
              "      <td>GBP</td>\n",
              "      <td>-60.05</td>\n",
              "      <td>2018</td>\n",
              "      <td>5</td>\n",
              "      <td>20</td>\n",
              "      <td>6</td>\n",
              "    </tr>\n",
              "    <tr>\n",
              "      <th>2018-05-20</th>\n",
              "      <td>10028</td>\n",
              "      <td>Current_account</td>\n",
              "      <td>Revo</td>\n",
              "      <td>Revo_10028</td>\n",
              "      <td>groceries</td>\n",
              "      <td>variable</td>\n",
              "      <td>GBP</td>\n",
              "      <td>-40.20</td>\n",
              "      <td>2018</td>\n",
              "      <td>5</td>\n",
              "      <td>21</td>\n",
              "      <td>6</td>\n",
              "    </tr>\n",
              "    <tr>\n",
              "      <th>2018-05-27</th>\n",
              "      <td>10038</td>\n",
              "      <td>Current_account</td>\n",
              "      <td>Revo</td>\n",
              "      <td>Revo_10038</td>\n",
              "      <td>groceries</td>\n",
              "      <td>variable</td>\n",
              "      <td>GBP</td>\n",
              "      <td>-34.86</td>\n",
              "      <td>2018</td>\n",
              "      <td>5</td>\n",
              "      <td>22</td>\n",
              "      <td>6</td>\n",
              "    </tr>\n",
              "    <tr>\n",
              "      <th>2018-06-03</th>\n",
              "      <td>10048</td>\n",
              "      <td>Current_account</td>\n",
              "      <td>Revo</td>\n",
              "      <td>Revo_10048</td>\n",
              "      <td>groceries</td>\n",
              "      <td>variable</td>\n",
              "      <td>GBP</td>\n",
              "      <td>-57.46</td>\n",
              "      <td>2018</td>\n",
              "      <td>6</td>\n",
              "      <td>23</td>\n",
              "      <td>6</td>\n",
              "    </tr>\n",
              "    <tr>\n",
              "      <th>...</th>\n",
              "      <td>...</td>\n",
              "      <td>...</td>\n",
              "      <td>...</td>\n",
              "      <td>...</td>\n",
              "      <td>...</td>\n",
              "      <td>...</td>\n",
              "      <td>...</td>\n",
              "      <td>...</td>\n",
              "      <td>...</td>\n",
              "      <td>...</td>\n",
              "      <td>...</td>\n",
              "      <td>...</td>\n",
              "    </tr>\n",
              "    <tr>\n",
              "      <th>2020-03-08</th>\n",
              "      <td>10930</td>\n",
              "      <td>Current_account</td>\n",
              "      <td>Revo</td>\n",
              "      <td>Revo_10930</td>\n",
              "      <td>Coffee shops</td>\n",
              "      <td>variable</td>\n",
              "      <td>GBP</td>\n",
              "      <td>-5.25</td>\n",
              "      <td>2020</td>\n",
              "      <td>3</td>\n",
              "      <td>11</td>\n",
              "      <td>6</td>\n",
              "    </tr>\n",
              "    <tr>\n",
              "      <th>2020-03-15</th>\n",
              "      <td>10940</td>\n",
              "      <td>Current_account</td>\n",
              "      <td>Revo</td>\n",
              "      <td>Revo_10940</td>\n",
              "      <td>Coffee shops</td>\n",
              "      <td>variable</td>\n",
              "      <td>GBP</td>\n",
              "      <td>-13.92</td>\n",
              "      <td>2020</td>\n",
              "      <td>3</td>\n",
              "      <td>12</td>\n",
              "      <td>6</td>\n",
              "    </tr>\n",
              "    <tr>\n",
              "      <th>2020-03-22</th>\n",
              "      <td>10950</td>\n",
              "      <td>Current_account</td>\n",
              "      <td>Revo</td>\n",
              "      <td>Revo_10950</td>\n",
              "      <td>eating_out</td>\n",
              "      <td>variable</td>\n",
              "      <td>GBP</td>\n",
              "      <td>-25.00</td>\n",
              "      <td>2020</td>\n",
              "      <td>3</td>\n",
              "      <td>13</td>\n",
              "      <td>6</td>\n",
              "    </tr>\n",
              "    <tr>\n",
              "      <th>2020-03-22</th>\n",
              "      <td>10951</td>\n",
              "      <td>Current_account</td>\n",
              "      <td>Revo</td>\n",
              "      <td>Revo_10951</td>\n",
              "      <td>Coffee shops</td>\n",
              "      <td>variable</td>\n",
              "      <td>GBP</td>\n",
              "      <td>-5.25</td>\n",
              "      <td>2020</td>\n",
              "      <td>3</td>\n",
              "      <td>13</td>\n",
              "      <td>6</td>\n",
              "    </tr>\n",
              "    <tr>\n",
              "      <th>2020-03-29</th>\n",
              "      <td>10963</td>\n",
              "      <td>Current_account</td>\n",
              "      <td>Revo</td>\n",
              "      <td>Revo_10963</td>\n",
              "      <td>Coffee shops</td>\n",
              "      <td>variable</td>\n",
              "      <td>GBP</td>\n",
              "      <td>-4.65</td>\n",
              "      <td>2020</td>\n",
              "      <td>3</td>\n",
              "      <td>14</td>\n",
              "      <td>6</td>\n",
              "    </tr>\n",
              "  </tbody>\n",
              "</table>\n",
              "<p>101 rows × 12 columns</p>\n",
              "</div>"
            ],
            "text/plain": [
              "               id       account_id bankCode  ... month week weekday\n",
              "made_on                                      ...                   \n",
              "2018-05-06  10006  Current_account     Revo  ...     5   19       6\n",
              "2018-05-13  10017  Current_account     Revo  ...     5   20       6\n",
              "2018-05-20  10028  Current_account     Revo  ...     5   21       6\n",
              "2018-05-27  10038  Current_account     Revo  ...     5   22       6\n",
              "2018-06-03  10048  Current_account     Revo  ...     6   23       6\n",
              "...           ...              ...      ...  ...   ...  ...     ...\n",
              "2020-03-08  10930  Current_account     Revo  ...     3   11       6\n",
              "2020-03-15  10940  Current_account     Revo  ...     3   12       6\n",
              "2020-03-22  10950  Current_account     Revo  ...     3   13       6\n",
              "2020-03-22  10951  Current_account     Revo  ...     3   13       6\n",
              "2020-03-29  10963  Current_account     Revo  ...     3   14       6\n",
              "\n",
              "[101 rows x 12 columns]"
            ]
          },
          "metadata": {
            "tags": []
          },
          "execution_count": 31
        }
      ]
    },
    {
      "cell_type": "code",
      "metadata": {
        "id": "RSLzO69aOSZh",
        "outputId": "d68eea3a-dcf1-432c-aa4a-e50eb9a91324",
        "colab": {
          "base_uri": "https://localhost:8080/",
          "height": 640
        }
      },
      "source": [
        "df1_train=df1.query('weekday != 6')\n",
        "df1_train.set_index(['made_on'], inplace=True) \n",
        "df1_train"
      ],
      "execution_count": 30,
      "outputs": [
        {
          "output_type": "execute_result",
          "data": {
            "text/html": [
              "<div>\n",
              "<style scoped>\n",
              "    .dataframe tbody tr th:only-of-type {\n",
              "        vertical-align: middle;\n",
              "    }\n",
              "\n",
              "    .dataframe tbody tr th {\n",
              "        vertical-align: top;\n",
              "    }\n",
              "\n",
              "    .dataframe thead th {\n",
              "        text-align: right;\n",
              "    }\n",
              "</style>\n",
              "<table border=\"1\" class=\"dataframe\">\n",
              "  <thead>\n",
              "    <tr style=\"text-align: right;\">\n",
              "      <th></th>\n",
              "      <th>id</th>\n",
              "      <th>account_id</th>\n",
              "      <th>bankCode</th>\n",
              "      <th>cashcoachId</th>\n",
              "      <th>category_lvl2</th>\n",
              "      <th>category_lvl1</th>\n",
              "      <th>currency_code</th>\n",
              "      <th>amount</th>\n",
              "      <th>year</th>\n",
              "      <th>month</th>\n",
              "      <th>week</th>\n",
              "      <th>weekday</th>\n",
              "    </tr>\n",
              "    <tr>\n",
              "      <th>made_on</th>\n",
              "      <th></th>\n",
              "      <th></th>\n",
              "      <th></th>\n",
              "      <th></th>\n",
              "      <th></th>\n",
              "      <th></th>\n",
              "      <th></th>\n",
              "      <th></th>\n",
              "      <th></th>\n",
              "      <th></th>\n",
              "      <th></th>\n",
              "      <th></th>\n",
              "    </tr>\n",
              "  </thead>\n",
              "  <tbody>\n",
              "    <tr>\n",
              "      <th>2018-05-01</th>\n",
              "      <td>10000</td>\n",
              "      <td>Current_account</td>\n",
              "      <td>Revo</td>\n",
              "      <td>Revo_10000</td>\n",
              "      <td>Coffee shops</td>\n",
              "      <td>variable</td>\n",
              "      <td>GBP</td>\n",
              "      <td>-7.80</td>\n",
              "      <td>2018</td>\n",
              "      <td>5</td>\n",
              "      <td>18</td>\n",
              "      <td>1</td>\n",
              "    </tr>\n",
              "    <tr>\n",
              "      <th>2018-05-02</th>\n",
              "      <td>10002</td>\n",
              "      <td>Current_account</td>\n",
              "      <td>Revo</td>\n",
              "      <td>Revo_10002</td>\n",
              "      <td>Coffee shops</td>\n",
              "      <td>variable</td>\n",
              "      <td>GBP</td>\n",
              "      <td>-5.24</td>\n",
              "      <td>2018</td>\n",
              "      <td>5</td>\n",
              "      <td>18</td>\n",
              "      <td>2</td>\n",
              "    </tr>\n",
              "    <tr>\n",
              "      <th>2018-05-03</th>\n",
              "      <td>10003</td>\n",
              "      <td>Current_account</td>\n",
              "      <td>Revo</td>\n",
              "      <td>Revo_10003</td>\n",
              "      <td>Coffee shops</td>\n",
              "      <td>variable</td>\n",
              "      <td>GBP</td>\n",
              "      <td>-7.09</td>\n",
              "      <td>2018</td>\n",
              "      <td>5</td>\n",
              "      <td>18</td>\n",
              "      <td>3</td>\n",
              "    </tr>\n",
              "    <tr>\n",
              "      <th>2018-05-04</th>\n",
              "      <td>10004</td>\n",
              "      <td>Current_account</td>\n",
              "      <td>Revo</td>\n",
              "      <td>Revo_10004</td>\n",
              "      <td>Coffee shops</td>\n",
              "      <td>variable</td>\n",
              "      <td>GBP</td>\n",
              "      <td>-9.10</td>\n",
              "      <td>2018</td>\n",
              "      <td>5</td>\n",
              "      <td>18</td>\n",
              "      <td>4</td>\n",
              "    </tr>\n",
              "    <tr>\n",
              "      <th>2018-05-05</th>\n",
              "      <td>10005</td>\n",
              "      <td>Current_account</td>\n",
              "      <td>Revo</td>\n",
              "      <td>Revo_10005</td>\n",
              "      <td>eating_out</td>\n",
              "      <td>variable</td>\n",
              "      <td>GBP</td>\n",
              "      <td>-73.66</td>\n",
              "      <td>2018</td>\n",
              "      <td>5</td>\n",
              "      <td>18</td>\n",
              "      <td>5</td>\n",
              "    </tr>\n",
              "    <tr>\n",
              "      <th>...</th>\n",
              "      <td>...</td>\n",
              "      <td>...</td>\n",
              "      <td>...</td>\n",
              "      <td>...</td>\n",
              "      <td>...</td>\n",
              "      <td>...</td>\n",
              "      <td>...</td>\n",
              "      <td>...</td>\n",
              "      <td>...</td>\n",
              "      <td>...</td>\n",
              "      <td>...</td>\n",
              "      <td>...</td>\n",
              "    </tr>\n",
              "    <tr>\n",
              "      <th>2020-03-27</th>\n",
              "      <td>10960</td>\n",
              "      <td>Current_account</td>\n",
              "      <td>Revo</td>\n",
              "      <td>Revo_10960</td>\n",
              "      <td>Coffee shops</td>\n",
              "      <td>variable</td>\n",
              "      <td>GBP</td>\n",
              "      <td>-6.44</td>\n",
              "      <td>2020</td>\n",
              "      <td>3</td>\n",
              "      <td>13</td>\n",
              "      <td>4</td>\n",
              "    </tr>\n",
              "    <tr>\n",
              "      <th>2020-03-28</th>\n",
              "      <td>10962</td>\n",
              "      <td>Current_account</td>\n",
              "      <td>Revo</td>\n",
              "      <td>Revo_10962</td>\n",
              "      <td>Coffee shops</td>\n",
              "      <td>variable</td>\n",
              "      <td>GBP</td>\n",
              "      <td>-4.48</td>\n",
              "      <td>2020</td>\n",
              "      <td>3</td>\n",
              "      <td>13</td>\n",
              "      <td>5</td>\n",
              "    </tr>\n",
              "    <tr>\n",
              "      <th>2020-03-30</th>\n",
              "      <td>10964</td>\n",
              "      <td>Current_account</td>\n",
              "      <td>Revo</td>\n",
              "      <td>Revo_10964</td>\n",
              "      <td>Clothing</td>\n",
              "      <td>variable</td>\n",
              "      <td>GBP</td>\n",
              "      <td>-21.06</td>\n",
              "      <td>2020</td>\n",
              "      <td>3</td>\n",
              "      <td>14</td>\n",
              "      <td>0</td>\n",
              "    </tr>\n",
              "    <tr>\n",
              "      <th>2020-03-30</th>\n",
              "      <td>10965</td>\n",
              "      <td>Current_account</td>\n",
              "      <td>Revo</td>\n",
              "      <td>Revo_10965</td>\n",
              "      <td>eating_out</td>\n",
              "      <td>variable</td>\n",
              "      <td>GBP</td>\n",
              "      <td>-10.00</td>\n",
              "      <td>2020</td>\n",
              "      <td>3</td>\n",
              "      <td>14</td>\n",
              "      <td>0</td>\n",
              "    </tr>\n",
              "    <tr>\n",
              "      <th>2020-03-31</th>\n",
              "      <td>10966</td>\n",
              "      <td>Current_account</td>\n",
              "      <td>Revo</td>\n",
              "      <td>Revo_10966</td>\n",
              "      <td>groceries</td>\n",
              "      <td>variable</td>\n",
              "      <td>GBP</td>\n",
              "      <td>-11.82</td>\n",
              "      <td>2020</td>\n",
              "      <td>3</td>\n",
              "      <td>14</td>\n",
              "      <td>1</td>\n",
              "    </tr>\n",
              "  </tbody>\n",
              "</table>\n",
              "<p>649 rows × 12 columns</p>\n",
              "</div>"
            ],
            "text/plain": [
              "               id       account_id bankCode  ... month week weekday\n",
              "made_on                                      ...                   \n",
              "2018-05-01  10000  Current_account     Revo  ...     5   18       1\n",
              "2018-05-02  10002  Current_account     Revo  ...     5   18       2\n",
              "2018-05-03  10003  Current_account     Revo  ...     5   18       3\n",
              "2018-05-04  10004  Current_account     Revo  ...     5   18       4\n",
              "2018-05-05  10005  Current_account     Revo  ...     5   18       5\n",
              "...           ...              ...      ...  ...   ...  ...     ...\n",
              "2020-03-27  10960  Current_account     Revo  ...     3   13       4\n",
              "2020-03-28  10962  Current_account     Revo  ...     3   13       5\n",
              "2020-03-30  10964  Current_account     Revo  ...     3   14       0\n",
              "2020-03-30  10965  Current_account     Revo  ...     3   14       0\n",
              "2020-03-31  10966  Current_account     Revo  ...     3   14       1\n",
              "\n",
              "[649 rows x 12 columns]"
            ]
          },
          "metadata": {
            "tags": []
          },
          "execution_count": 30
        }
      ]
    },
    {
      "cell_type": "code",
      "metadata": {
        "id": "rOy52F0LTXgu"
      },
      "source": [
        ""
      ],
      "execution_count": null,
      "outputs": []
    }
  ]
}